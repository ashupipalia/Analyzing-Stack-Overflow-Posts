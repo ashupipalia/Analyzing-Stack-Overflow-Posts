{
 "cells": [
  {
   "cell_type": "code",
   "execution_count": 6,
   "metadata": {},
   "outputs": [],
   "source": [
    "import urllib.request\n",
    "import xlsxwriter\n",
    "from stackapi import StackAPI \n",
    "from bs4 import BeautifulSoup\n",
    "import csv\n",
    "from datetime import datetime"
   ]
  },
  {
   "cell_type": "code",
   "execution_count": 41,
   "metadata": {
    "scrolled": false
   },
   "outputs": [
    {
     "name": "stdout",
     "output_type": "stream",
     "text": [
      "500\n"
     ]
    }
   ],
   "source": [
    "def extractQuestionTags():\n",
    "    \n",
    "    data = StackAPI('stackoverflow')  #this is the website name where i scrap the data \n",
    "    \n",
    "    questions = data.fetch('questions',filter=\"withbody\",fromdate=datetime(2019,7,1), todate=datetime(2019,8,1)) #tagged='android' we can fecth the data by data here format (year,month,day) \n",
    "    print(len(questions['items']))\n",
    "    with open(\"data_20.csv\", 'w',encoding=\"utf-8\") as write_csv: \n",
    "        writer = csv.writer(write_csv, delimiter=\",\")\n",
    "        writer.writerow([\"Question Title\", \"Question\", \"Tags\", \"Question_User_Id\", \"Answer_User_Id\"])\n",
    "\n",
    "        for param in questions['items']: \n",
    "            #print(f\"Writing details related to {param['title']} to the file\")\n",
    "            tags = \",\".join(param['tags'])\n",
    "            if 'accepted_answer_id' in param:\n",
    "                a_string = param['body']\n",
    "                writer.writerow([param['title'], a_string, tags, param['question_id'], param[\"accepted_answer_id\"]])\n",
    "            \n",
    "            else:\n",
    "                a_string = param['body']\n",
    "                writer.writerow([param['title'], a_string,tags, param['question_id'], 0])\n",
    "      \n",
    "    \n",
    "extractQuestionTags()"
   ]
  },
  {
   "cell_type": "code",
   "execution_count": null,
   "metadata": {},
   "outputs": [],
   "source": []
  },
  {
   "cell_type": "code",
   "execution_count": null,
   "metadata": {},
   "outputs": [],
   "source": []
  }
 ],
 "metadata": {
  "kernelspec": {
   "display_name": "Python 3",
   "language": "python",
   "name": "python3"
  },
  "language_info": {
   "codemirror_mode": {
    "name": "ipython",
    "version": 3
   },
   "file_extension": ".py",
   "mimetype": "text/x-python",
   "name": "python",
   "nbconvert_exporter": "python",
   "pygments_lexer": "ipython3",
   "version": "3.8.3"
  }
 },
 "nbformat": 4,
 "nbformat_minor": 4
}
